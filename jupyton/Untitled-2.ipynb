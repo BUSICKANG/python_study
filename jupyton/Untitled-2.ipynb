{
 "cells": [
  {
   "cell_type": "code",
   "execution_count": 9,
   "id": "66f2b6b2",
   "metadata": {},
   "outputs": [
    {
     "name": "stdout",
     "output_type": "stream",
     "text": [
      "나는 사과를 좋아합니다.\n",
      "다시 시도해보세요.\n"
     ]
    },
    {
     "ename": "KeyboardInterrupt",
     "evalue": "",
     "output_type": "error",
     "traceback": [
      "\u001b[31m---------------------------------------------------------------------------\u001b[39m",
      "\u001b[31mKeyboardInterrupt\u001b[39m                         Traceback (most recent call last)",
      "\u001b[36mCell\u001b[39m\u001b[36m \u001b[39m\u001b[32mIn[9]\u001b[39m\u001b[32m, line 36\u001b[39m\n\u001b[32m     34\u001b[39m \u001b[38;5;28;01mfor\u001b[39;00m i \u001b[38;5;129;01min\u001b[39;00m \u001b[38;5;28mrange\u001b[39m(\u001b[38;5;28mmin\u001b[39m(\u001b[38;5;28mlen\u001b[39m(target), \u001b[38;5;28mlen\u001b[39m(typed))):\n\u001b[32m     35\u001b[39m     \u001b[38;5;28;01mif\u001b[39;00m target[i] == typed[i]:\n\u001b[32m---> \u001b[39m\u001b[32m36\u001b[39m         \u001b[43mcorrect\u001b[49m += \u001b[32m1\u001b[39m\n\u001b[32m     38\u001b[39m total = \u001b[38;5;28mmax\u001b[39m(\u001b[38;5;28mlen\u001b[39m(target), \u001b[38;5;28mlen\u001b[39m(typed))\n\u001b[32m     40\u001b[39m accuracy = correct / total * \u001b[32m100\u001b[39m\n",
      "\u001b[36mFile \u001b[39m\u001b[32m<stringsource>:69\u001b[39m, in \u001b[36mcfunc.to_py.__Pyx_CFunc_b0409f__29_pydevd_sys_monitoring_cython_object__lParen__etc_to_py_4code_4line.wrap\u001b[39m\u001b[34m()\u001b[39m\n",
      "\u001b[36mFile \u001b[39m\u001b[32m_pydevd_sys_monitoring\\\\_pydevd_sys_monitoring_cython.pyx:1470\u001b[39m, in \u001b[36m_pydevd_sys_monitoring_cython._line_event\u001b[39m\u001b[34m()\u001b[39m\n",
      "\u001b[36mFile \u001b[39m\u001b[32m_pydevd_sys_monitoring\\\\_pydevd_sys_monitoring_cython.pyx:1512\u001b[39m, in \u001b[36m_pydevd_sys_monitoring_cython._internal_line_event\u001b[39m\u001b[34m()\u001b[39m\n",
      "\u001b[36mFile \u001b[39m\u001b[32m_pydevd_sys_monitoring\\\\_pydevd_sys_monitoring_cython.pyx:1313\u001b[39m, in \u001b[36m_pydevd_sys_monitoring_cython._stop_on_breakpoint\u001b[39m\u001b[34m()\u001b[39m\n",
      "\u001b[36mFile \u001b[39m\u001b[32m_pydevd_sys_monitoring\\\\_pydevd_sys_monitoring_cython.pyx:1950\u001b[39m, in \u001b[36m_pydevd_sys_monitoring_cython._do_wait_suspend\u001b[39m\u001b[34m()\u001b[39m\n",
      "\u001b[36mFile \u001b[39m\u001b[32m~\\AppData\\Roaming\\Python\\Python313\\site-packages\\debugpy\\_vendored\\pydevd\\pydevd.py:2188\u001b[39m, in \u001b[36mPyDB.do_wait_suspend\u001b[39m\u001b[34m(self, thread, frame, event, arg, exception_type)\u001b[39m\n\u001b[32m   2185\u001b[39m             from_this_thread.append(frame_custom_thread_id)\n\u001b[32m   2187\u001b[39m     \u001b[38;5;28;01mwith\u001b[39;00m \u001b[38;5;28mself\u001b[39m._threads_suspended_single_notification.notify_thread_suspended(thread_id, thread, stop_reason):\n\u001b[32m-> \u001b[39m\u001b[32m2188\u001b[39m         keep_suspended = \u001b[38;5;28;43mself\u001b[39;49m\u001b[43m.\u001b[49m\u001b[43m_do_wait_suspend\u001b[49m\u001b[43m(\u001b[49m\u001b[43mthread\u001b[49m\u001b[43m,\u001b[49m\u001b[43m \u001b[49m\u001b[43mframe\u001b[49m\u001b[43m,\u001b[49m\u001b[43m \u001b[49m\u001b[43mevent\u001b[49m\u001b[43m,\u001b[49m\u001b[43m \u001b[49m\u001b[43marg\u001b[49m\u001b[43m,\u001b[49m\u001b[43m \u001b[49m\u001b[43mtrace_suspend_type\u001b[49m\u001b[43m,\u001b[49m\u001b[43m \u001b[49m\u001b[43mfrom_this_thread\u001b[49m\u001b[43m,\u001b[49m\u001b[43m \u001b[49m\u001b[43mframes_tracker\u001b[49m\u001b[43m)\u001b[49m\n\u001b[32m   2190\u001b[39m frames_list = \u001b[38;5;28;01mNone\u001b[39;00m\n\u001b[32m   2192\u001b[39m \u001b[38;5;28;01mif\u001b[39;00m keep_suspended:\n\u001b[32m   2193\u001b[39m     \u001b[38;5;66;03m# This means that we should pause again after a set next statement.\u001b[39;00m\n",
      "\u001b[36mFile \u001b[39m\u001b[32m~\\AppData\\Roaming\\Python\\Python313\\site-packages\\debugpy\\_vendored\\pydevd\\pydevd.py:2257\u001b[39m, in \u001b[36mPyDB._do_wait_suspend\u001b[39m\u001b[34m(self, thread, frame, event, arg, trace_suspend_type, from_this_thread, frames_tracker)\u001b[39m\n\u001b[32m   2254\u001b[39m                 queue.put(internal_cmd)\n\u001b[32m   2255\u001b[39m                 wait_timeout = TIMEOUT_FAST\n\u001b[32m-> \u001b[39m\u001b[32m2257\u001b[39m         \u001b[43mnotify_event\u001b[49m\u001b[43m.\u001b[49m\u001b[43mwait\u001b[49m\u001b[43m(\u001b[49m\u001b[43mwait_timeout\u001b[49m\u001b[43m)\u001b[49m\n\u001b[32m   2258\u001b[39m         notify_event.clear()\n\u001b[32m   2260\u001b[39m \u001b[38;5;28;01mfinally\u001b[39;00m:\n",
      "\u001b[36mFile \u001b[39m\u001b[32mc:\\Users\\강부식_\\AppData\\Local\\Programs\\Python\\Python313\\Lib\\threading.py:659\u001b[39m, in \u001b[36mEvent.wait\u001b[39m\u001b[34m(self, timeout)\u001b[39m\n\u001b[32m    657\u001b[39m signaled = \u001b[38;5;28mself\u001b[39m._flag\n\u001b[32m    658\u001b[39m \u001b[38;5;28;01mif\u001b[39;00m \u001b[38;5;129;01mnot\u001b[39;00m signaled:\n\u001b[32m--> \u001b[39m\u001b[32m659\u001b[39m     signaled = \u001b[38;5;28;43mself\u001b[39;49m\u001b[43m.\u001b[49m\u001b[43m_cond\u001b[49m\u001b[43m.\u001b[49m\u001b[43mwait\u001b[49m\u001b[43m(\u001b[49m\u001b[43mtimeout\u001b[49m\u001b[43m)\u001b[49m\n\u001b[32m    660\u001b[39m \u001b[38;5;28;01mreturn\u001b[39;00m signaled\n",
      "\u001b[36mFile \u001b[39m\u001b[32mc:\\Users\\강부식_\\AppData\\Local\\Programs\\Python\\Python313\\Lib\\threading.py:363\u001b[39m, in \u001b[36mCondition.wait\u001b[39m\u001b[34m(self, timeout)\u001b[39m\n\u001b[32m    361\u001b[39m \u001b[38;5;28;01melse\u001b[39;00m:\n\u001b[32m    362\u001b[39m     \u001b[38;5;28;01mif\u001b[39;00m timeout > \u001b[32m0\u001b[39m:\n\u001b[32m--> \u001b[39m\u001b[32m363\u001b[39m         gotit = \u001b[43mwaiter\u001b[49m\u001b[43m.\u001b[49m\u001b[43macquire\u001b[49m\u001b[43m(\u001b[49m\u001b[38;5;28;43;01mTrue\u001b[39;49;00m\u001b[43m,\u001b[49m\u001b[43m \u001b[49m\u001b[43mtimeout\u001b[49m\u001b[43m)\u001b[49m\n\u001b[32m    364\u001b[39m     \u001b[38;5;28;01melse\u001b[39;00m:\n\u001b[32m    365\u001b[39m         gotit = waiter.acquire(\u001b[38;5;28;01mFalse\u001b[39;00m)\n",
      "\u001b[31mKeyboardInterrupt\u001b[39m: "
     ]
    }
   ],
   "source": [
    "import time\n",
    "import random\n",
    "\n",
    "list=[\"나는 사과를 좋아합니다.\",\n",
    "    \"나는 배를 좋아합니다.\",\n",
    "    \"나는 바나나를 좋아합니다.\",\n",
    "    \"나는 감을 좋아합니다.\",\n",
    "    \"나는 참외를 좋아합니다.\",\n",
    "    \"나는 딸기를 좋아합니다.\",\n",
    "    \"나는 대추를 좋아합니다.\",\n",
    "    \"나는 밤을 좋아합니다.\",\n",
    "    \"나는 메론을 좋아합니다.\"]\n",
    "\n",
    "def pick_random_list():\n",
    "    return random.choice(list)\n",
    "\n",
    "\n",
    "target = pick_random_list()\n",
    "print(pick_random_list())\n",
    "\n",
    "input(\"준비되면 Ent를 누르세요\")\n",
    "\n",
    "start_time = time.time()\n",
    "trial = 0\n",
    "while True:\n",
    "        \n",
    "    typed = input(\"\\n따라 쓰세요:\")\n",
    "\n",
    "    end_time = time.time()\n",
    "    elapsed = end_time - start_time\n",
    "\n",
    "    correct=0\n",
    "\n",
    "    for i in range(min(len(target), len(typed))):\n",
    "        if target[i] == typed[i]:\n",
    "            correct += 1\n",
    "\n",
    "    total = max(len(target), len(typed))\n",
    "\n",
    "    accuracy = correct / total * 100\n",
    "    speed = len(typed) / elapsed * 60\n",
    "\n",
    "   if accuracy == 100:\n",
    "    print(\"완료했어요.\")\n",
    "        break\n",
    "    else:\n",
    "        print(\"다시 시도해보세요.\")\n",
    "        trial += 1\n",
    "\n",
    "print(\"\\n결과\")\n",
    "print(f\"걸린 시간\")\n"
   ]
  },
  {
   "cell_type": "code",
   "execution_count": 47,
   "id": "67a4be25",
   "metadata": {},
   "outputs": [
    {
     "name": "stdout",
     "output_type": "stream",
     "text": [
      "문제 1: 우물 안 개구리도\n",
      "❌ 틀렸습니다! 힌트: \"하늘을 우...\"\n",
      "❌ 아쉽습니다! 정답은: \"하늘을 우러러 본다.\"\n",
      "\n",
      "문제 2: 바람 앞의\n",
      "❌ 틀렸습니다! 힌트: \"촛불도 끝...\"\n",
      "❌ 아쉽습니다! 정답은: \"촛불도 끝까지 빛을 낸다.\"\n",
      "\n",
      "문제 3: 작은 나뭇잎도\n",
      "❌ 틀렸습니다! 힌트: \"바람을 만...\"\n",
      "❌ 아쉽습니다! 정답은: \"바람을 만나면 춤춘다.\"\n",
      "\n",
      "문제 4: 물이 고이면 썩고,\n",
      "❌ 틀렸습니다! 힌트: \"흐르면 맑...\"\n",
      "❌ 아쉽습니다! 정답은: \"흐르면 맑다.\"\n",
      "\n",
      "문제 5: 빛은 벽을 만나도\n",
      "❌ 틀렸습니다! 힌트: \"끝까지 간...\"\n",
      "❌ 아쉽습니다! 정답은: \"끝까지 간다.\"\n",
      "\n",
      "\n",
      "게임종료!!! 당신의 총 최종 점수: 5게임 중 0점 입니다.\n"
     ]
    }
   ],
   "source": [
    "import time\n",
    "import random\n",
    "\n",
    "\n",
    "proverb_list = [\n",
    "    [\"바람 앞의\", \"촛불도 끝까지 빛을 낸다.\"],\n",
    "    [\"작은 나뭇잎도\", \"바람을 만나면 춤춘다.\"],\n",
    "    [\"우물 안 개구리도\", \"하늘을 우러러 본다.\"],\n",
    "    [\"굽은 길이\", \"더 멀리 데려간다.\"],\n",
    "    [\"땀 한 방울이\", \"강을 만든다.\"],\n",
    "    [\"구름은 가도\", \"하늘은 남는다.\"],\n",
    "    [\"작은 불씨가\", \"큰 숲을 살린다.\"],\n",
    "    [\"나무는 뿌리로\", \"말하고 꽃으로 대답한다.\"],\n",
    "    [\"물이 고이면 썩고,\", \"흐르면 맑다.\"],\n",
    "    [\"빛은 벽을 만나도\", \"끝까지 간다.\"]\n",
    "]\n",
    "\n",
    "score = 0\n",
    "total_questions = 5  # 총 문제 수\n",
    "\n",
    "for i in range(total_questions): \n",
    "    front, back = random.choice(proverb_list)\n",
    "    print(f\"문제 {i+1}: {front}\")\n",
    "\n",
    "\n",
    "    # 첫 번째 입력\n",
    "    user_answer = input(\"뒷부분을 입력하세요: \").strip()\n",
    "    \n",
    "    # 공백 무시하고 비교\n",
    "    if user_answer.replace(\" \", \"\") == back.replace(\" \", \"\"):\n",
    "        print(\"✅ 정답입니다!\\n\")\n",
    "        score += 1\n",
    "    else:\n",
    "        # 틀렸을 경우 힌트 제공 (정답의 앞 3~5글자)\n",
    "        hint_length = min(5, len(back))  # 5글자 이하로 제한\n",
    "        hint = back[:hint_length] + \"...\"\n",
    "        print(f\"❌ 틀렸습니다! 힌트: \\\"{hint}\\\"\")\n",
    "        \n",
    "        # 두 번째 기회\n",
    "        user_second = input(\"힌트를 보고 다시 한 번 더 입력하세요: \").strip()\n",
    "        if user_second.replace(\" \", \"\") == back.replace(\" \", \"\"):\n",
    "            print(\"✅ 정답입니다! (두 번째 시도)\\n\")\n",
    "            score += 1\n",
    "        else:\n",
    "            print(f\"❌ 아쉽습니다! 정답은: \\\"{back}\\\"\\n\")\n",
    "\n",
    "# 최종 점수 출력\n",
    "print(f\"\\n게임종료!!! 당신의 총 최종 점수: {total_questions}게임 중 {score}점 입니다.\")"
   ]
  },
  {
   "cell_type": "code",
   "execution_count": 2,
   "id": "004a7193",
   "metadata": {},
   "outputs": [
    {
     "name": "stdout",
     "output_type": "stream",
     "text": [
      "한글 타자 시계 게임을 시작합니다!\n",
      "제한 시간 내에 단어를 정확히 입력하세요!\n",
      "기회는 3번! 시작합니다...\n",
      "\n",
      "제시어: 키보드\n",
      "시간 초과! (4.5초 걸림)\n",
      "남은 목숨: 2, 점수: 0, 제한시간: 2.0초\n",
      "\n",
      "제시어: 의자\n",
      "시간 초과! (4.0초 걸림)\n",
      "남은 목숨: 1, 점수: 0, 제한시간: 2.0초\n",
      "\n",
      "제시어: 마우스\n",
      "시간 초과! (2.8초 걸림)\n",
      "남은 목숨: 0, 점수: 0, 제한시간: 2.0초\n",
      "\n",
      "\n",
      "게임 종료!\n",
      "최종 점수: 0\n"
     ]
    }
   ],
   "source": [
    "import random\n",
    "import time\n",
    "\n",
    "# 단어 목록 (확장 가능)\n",
    "words = [\n",
    "    \"사과\", \"바나나\", \"포도\", \"수박\", \"멜론\", \"호랑이\",\n",
    "    \"코끼리\", \"선생님\", \"학생\", \"연필\", \"지우개\", \"컴퓨터\", \"키보드\", \"마우스\",\n",
    "    \"책상\", \"의자\"\n",
    "]\n",
    "\n",
    "score = 0\n",
    "lives = 3\n",
    "speed = 2   # 단어 입력 시간 제한 (초)\n",
    "\n",
    "print(\"한글 타자 시계 게임을 시작합니다!\")\n",
    "print(\"제한 시간 내에 단어를 정확히 입력하세요!\")\n",
    "print(\"기회는 3번! 시작합니다...\\n\")\n",
    "\n",
    "time.sleep(2)\n",
    "\n",
    "while lives > 0:\n",
    "    target = random.choice(words)\n",
    "    print(f\"제시어: {target}\")\n",
    "\n",
    "    start = time.time()\n",
    "    user_input = input(\"입력: \").strip()\n",
    "    end = time.time()\n",
    "\n",
    "    elapsed = end - start\n",
    "\n",
    "    if elapsed > speed:\n",
    "        print(f\"시간 초과! ({elapsed:.1f}초 걸림)\")\n",
    "        lives -= 1\n",
    "    elif user_input != target:\n",
    "        print(\"오타! 정확히 입력해야 해요.\")\n",
    "        lives -= 1\n",
    "    else:\n",
    "        print(\"성공!\")\n",
    "        score += 1\n",
    "    \n",
    "    print(f\"남은 목숨: {lives}, 점수: {score}, 제한시간: {speed:.1f}초\\n\")\n",
    "    time.sleep(1)\n",
    "\n",
    "print(\"\\n게임 종료!\")\n",
    "print(f\"최종 점수: {score}\")"
   ]
  },
  {
   "cell_type": "code",
   "execution_count": 5,
   "id": "b2b14b6f",
   "metadata": {},
   "outputs": [
    {
     "name": "stdout",
     "output_type": "stream",
     "text": [
      "[32, 56, 64, 72, 12, 37, 98, 77, 59, 69]\n",
      "<class 'list'>\n"
     ]
    },
    {
     "data": {
      "text/plain": [
       "72"
      ]
     },
     "execution_count": 5,
     "metadata": {},
     "output_type": "execute_result"
    }
   ],
   "source": [
    "score = [32, 56, 64, 72, 12, 37, 98, 77, 59, 69]\n",
    "print(score)\n",
    "print(type(score))\n",
    "id(score)\n",
    "score[3]"
   ]
  },
  {
   "cell_type": "code",
   "execution_count": null,
   "id": "9cbd461d",
   "metadata": {},
   "outputs": [
    {
     "ename": "SyntaxError",
     "evalue": "invalid syntax (3836548897.py, line 1)",
     "output_type": "error",
     "traceback": [
      "  \u001b[36mCell\u001b[39m\u001b[36m \u001b[39m\u001b[32mIn[8]\u001b[39m\u001b[32m, line 1\u001b[39m\n\u001b[31m    \u001b[39m\u001b[31mif i> = o and i < len(scores):\u001b[39m\n          ^\n\u001b[31mSyntaxError\u001b[39m\u001b[31m:\u001b[39m invalid syntax\n"
     ]
    }
   ],
   "source": [
    "if i> = o and i < len(scores):\n",
    "    scores[i] = number"
   ]
  },
  {
   "cell_type": "code",
   "execution_count": 12,
   "id": "35c03397",
   "metadata": {},
   "outputs": [
    {
     "name": "stdout",
     "output_type": "stream",
     "text": [
      "0 32\n",
      "1 56\n",
      "2 64\n",
      "3 72\n",
      "4 12\n",
      "5 37\n",
      "6 98\n",
      "7 77\n",
      "8 59\n",
      "9 69\n"
     ]
    }
   ],
   "source": [
    "for i in range(len(score)):\n",
    "    print(i,score[i])"
   ]
  },
  {
   "cell_type": "code",
   "execution_count": null,
   "id": "737f420f",
   "metadata": {},
   "outputs": [],
   "source": [
    "for i in range (len(scores)):\n",
    "    scores[i] = "
   ]
  },
  {
   "cell_type": "code",
   "execution_count": 18,
   "id": "7e9b7bc1",
   "metadata": {},
   "outputs": [
    {
     "name": "stdout",
     "output_type": "stream",
     "text": [
      "[]\n",
      "['h', 'e', 'i', 'i', 'o']\n"
     ]
    },
    {
     "ename": "TypeError",
     "evalue": "list expected at most 1 argument, got 2",
     "output_type": "error",
     "traceback": [
      "\u001b[31m---------------------------------------------------------------------------\u001b[39m",
      "\u001b[31mTypeError\u001b[39m                                 Traceback (most recent call last)",
      "\u001b[36mCell\u001b[39m\u001b[36m \u001b[39m\u001b[32mIn[18]\u001b[39m\u001b[32m, line 5\u001b[39m\n\u001b[32m      3\u001b[39m list2 = \u001b[38;5;28mlist\u001b[39m(\u001b[33m\"\u001b[39m\u001b[33mheiio\u001b[39m\u001b[33m\"\u001b[39m)\n\u001b[32m      4\u001b[39m \u001b[38;5;28mprint\u001b[39m(list2)\n\u001b[32m----> \u001b[39m\u001b[32m5\u001b[39m list3 = \u001b[38;5;28;43mlist\u001b[39;49m\u001b[43m(\u001b[49m\u001b[38;5;28;43mrange\u001b[39;49m\u001b[43m,\u001b[49m\u001b[43m \u001b[49m\u001b[32;43m2\u001b[39;49m\u001b[43m)\u001b[49m\n\u001b[32m      6\u001b[39m \u001b[38;5;28mprint\u001b[39m(list3)\n",
      "\u001b[31mTypeError\u001b[39m: list expected at most 1 argument, got 2"
     ]
    }
   ],
   "source": [
    "list1 = list()\n",
    "print(list1)\n",
    "list2 = list(\"heiio\")\n",
    "print(list2)\n",
    "list3 = list(range, 2)\n",
    "print(list3)"
   ]
  },
  {
   "cell_type": "code",
   "execution_count": null,
   "id": "478a014d",
   "metadata": {},
   "outputs": [
    {
     "name": "stdout",
     "output_type": "stream",
     "text": [
      "W l r\n",
      "apple peach pear\n"
     ]
    }
   ],
   "source": [
    "text = \"Will is power\"\n",
    "print(text[0], text[3], text[-1])\n",
    "flists = [\"apple\", \"bannana\", \"tomato\", \"peach\", \"pear\"]\n",
    "print(flists[0], flists[3],flists[-1] )\n",
    "    (flists=a[0], flists[3],flists[-1] )"
   ]
  },
  {
   "cell_type": "code",
   "execution_count": 27,
   "id": "24924d0e",
   "metadata": {},
   "outputs": [
    {
     "name": "stdout",
     "output_type": "stream",
     "text": [
      "[4, 5]\n"
     ]
    }
   ],
   "source": [
    "squares = [1,2,3,4,5,6,7,8,9,10]\n",
    "squares = squares[3:5]\n",
    "print(squares)"
   ]
  },
  {
   "cell_type": "code",
   "execution_count": 32,
   "id": "2c8bc92e",
   "metadata": {},
   "outputs": [
    {
     "data": {
      "text/plain": [
       "[4, 5, 6, 7, 8, 9, 10]"
      ]
     },
     "execution_count": 32,
     "metadata": {},
     "output_type": "execute_result"
    }
   ],
   "source": [
    "squares = [1,2,3,4,5,6,7,8,9,10]\n",
    "squares [3:]"
   ]
  },
  {
   "cell_type": "code",
   "execution_count": 33,
   "id": "fac57b8b",
   "metadata": {},
   "outputs": [
    {
     "data": {
      "text/plain": [
       "[1, 2, 3, 4, 5, 6, 7, 8, 9, 10]"
      ]
     },
     "execution_count": 33,
     "metadata": {},
     "output_type": "execute_result"
    }
   ],
   "source": [
    "squares = [1,2,3,4,5,6,7,8,9,10]\n",
    "squares [:]"
   ]
  },
  {
   "cell_type": "code",
   "execution_count": 34,
   "id": "082e8602",
   "metadata": {},
   "outputs": [
    {
     "name": "stdout",
     "output_type": "stream",
     "text": [
      "[1, 2, 3, 4, 5, 6, 7, 8, 9, 10]\n",
      "[1, 2, 3, 4, 5, 6, 7, 8, 9, 10]\n",
      "[100, 2, 3, 4, 5, 6, 7, 8, 9, 10]\n"
     ]
    }
   ],
   "source": [
    "a=[1,2,3,4,5,6,7,8,9,10]\n",
    "b=a[:]\n",
    "print(b)\n",
    "b[0]=100\n",
    "print(a)\n",
    "print(b)"
   ]
  },
  {
   "cell_type": "code",
   "execution_count": 4,
   "id": "4826defe",
   "metadata": {},
   "outputs": [
    {
     "name": "stdout",
     "output_type": "stream",
     "text": [
      "['두부', '생수', '양배추', '딸기']\n"
     ]
    }
   ],
   "source": [
    "shopping_list = [\"두부\", \"양배추\", \"딸기\"]\n",
    "shopping_list.insert(1, \"생수\")\n",
    "print(shopping_list)\n"
   ]
  },
  {
   "cell_type": "code",
   "execution_count": 6,
   "id": "6ca782c1",
   "metadata": {},
   "outputs": [
    {
     "name": "stdout",
     "output_type": "stream",
     "text": [
      "배트맨\n"
     ]
    }
   ],
   "source": [
    "heroes = [\"스파이더맨\", \"수퍼맨\", \"헐크\", \"아이언맨\", \"배트맨\"]\n",
    "if \"배트맨\" in heroes :\n",
    "    print(\"배트맨\")"
   ]
  },
  {
   "cell_type": "code",
   "execution_count": 8,
   "id": "f9712c46",
   "metadata": {},
   "outputs": [
    {
     "name": "stdout",
     "output_type": "stream",
     "text": [
      "[1, 2, 3, 4, 5]\n"
     ]
    }
   ],
   "source": [
    "li = [3,2,1,5,4]\n",
    "li.sort()\n",
    "print(li)"
   ]
  },
  {
   "cell_type": "code",
   "execution_count": null,
   "id": "3beea6dc",
   "metadata": {},
   "outputs": [],
   "source": [
    "li = [3,2,1,5,4]\n",
    "sli.sort()\n",
    "print(li)"
   ]
  },
  {
   "cell_type": "code",
   "execution_count": 10,
   "id": "fd461434",
   "metadata": {},
   "outputs": [
    {
     "name": "stdout",
     "output_type": "stream",
     "text": [
      "[5, 4, 3, 2, 1]\n"
     ]
    }
   ],
   "source": [
    "li = sorted([5,2,3,1,4], reverse=True)\n",
    "print(li)"
   ]
  },
  {
   "cell_type": "code",
   "execution_count": 12,
   "id": "13cc1f90",
   "metadata": {},
   "outputs": [
    {
     "name": "stdout",
     "output_type": "stream",
     "text": [
      "입력한 숫자들: [7, 8, 8, 8, 7, 9, 8]\n",
      "합계: 55\n"
     ]
    }
   ],
   "source": [
    "n = int(input(\"몇 개의 숫자를 입력하시겠습니까? \"))\n",
    "numbers = []\n",
    "for _ in range(n):\n",
    "    num = int(input(\"숫자를 입력하세요: \"))\n",
    "    numbers.append(num)\n",
    "total = sum(numbers)\n",
    "print(f\"입력한 숫자들: {numbers}\")\n",
    "print(f\"합계: {total}\")"
   ]
  },
  {
   "cell_type": "code",
   "execution_count": 14,
   "id": "aad8ff1e",
   "metadata": {},
   "outputs": [
    {
     "name": "stdout",
     "output_type": "stream",
     "text": [
      "생성된 난수 리스트: [29]\n",
      "생성된 난수 리스트: [29, 29]\n",
      "생성된 난수 리스트: [29, 29, 20]\n",
      "생성된 난수 리스트: [29, 29, 20, 35]\n",
      "생성된 난수 리스트: [29, 29, 20, 35, 60]\n",
      "생성된 난수 리스트: [29, 29, 20, 35, 60, 71]\n",
      "생성된 난수 리스트: [29, 29, 20, 35, 60, 71, 84]\n",
      "생성된 난수 리스트: [29, 29, 20, 35, 60, 71, 84, 68]\n",
      "생성된 난수 리스트: [29, 29, 20, 35, 60, 71, 84, 68, 60]\n",
      "생성된 난수 리스트: [29, 29, 20, 35, 60, 71, 84, 68, 60, 50]\n"
     ]
    }
   ],
   "source": [
    "import random\n",
    "\n",
    "values = []\n",
    "for _ in range(10):\n",
    "    values.append(random.randint(1,100))\n",
    "    print(f\"생성된 난수 리스트: {values}\")"
   ]
  },
  {
   "cell_type": "code",
   "execution_count": 15,
   "id": "9bc1d40f",
   "metadata": {},
   "outputs": [
    {
     "name": "stdout",
     "output_type": "stream",
     "text": [
      "20: ********************\n",
      "1: *\n",
      "12: ************\n",
      "9: *********\n",
      "18: ******************\n"
     ]
    }
   ],
   "source": [
    "values = [20, 1, 12,9, 18] #예시 리스트\n",
    "for val in values:\n",
    "    print(f\"{val}: {'*' * val}\")"
   ]
  },
  {
   "cell_type": "code",
   "execution_count": 17,
   "id": "a4737643",
   "metadata": {},
   "outputs": [
    {
     "name": "stdout",
     "output_type": "stream",
     "text": [
      "실행 전: [1, 2, 3, 4, 5, 6, 7, 8, 9, 10]\n",
      "실행 후: [-1, -2, -3, -4, -5, -6, -7, -8, -9, -10]\n"
     ]
    }
   ],
   "source": [
    "lst = [1,2,3,4,5,6,7,8,9,10]\n",
    "print(f\"실행 전: {lst}\")\n",
    "lst = [-x for x in lst]\n",
    "print(f\"실행 후: {lst}\")"
   ]
  },
  {
   "cell_type": "code",
   "execution_count": 20,
   "id": "ea2fe902",
   "metadata": {},
   "outputs": [
    {
     "name": "stdout",
     "output_type": "stream",
     "text": [
      "[0, 1, 2, 3, 4]\n",
      "[0, 1, 2, 3, 4]\n"
     ]
    }
   ],
   "source": [
    "a=[x for x in range(5)]\n",
    "b=[0,1,2,3,4]\n",
    "print(a)\n",
    "print(b)"
   ]
  },
  {
   "cell_type": "code",
   "execution_count": 21,
   "id": "b924e5af",
   "metadata": {},
   "outputs": [
    {
     "name": "stdout",
     "output_type": "stream",
     "text": [
      "(1, 2, 3, 4, 5)\n"
     ]
    }
   ],
   "source": [
    "numbers = (1,2,3,4,5)\n",
    "print(numbers)"
   ]
  },
  {
   "cell_type": "code",
   "execution_count": 22,
   "id": "1e7598b8",
   "metadata": {},
   "outputs": [
    {
     "name": "stdout",
     "output_type": "stream",
     "text": [
      "(1, 2, 'hello!')\n"
     ]
    }
   ],
   "source": [
    "t = (1,2, \"hello!\")\n",
    "print(t)"
   ]
  },
  {
   "cell_type": "code",
   "execution_count": 23,
   "id": "7a5b8957",
   "metadata": {},
   "outputs": [
    {
     "name": "stdout",
     "output_type": "stream",
     "text": [
      "(40,)\n",
      "40\n"
     ]
    }
   ],
   "source": [
    "a=(40,)\n",
    "b=(40)\n",
    "print(a)\n",
    "print(b)"
   ]
  },
  {
   "cell_type": "code",
   "execution_count": 26,
   "id": "ddc400da",
   "metadata": {},
   "outputs": [
    {
     "ename": "TypeError",
     "evalue": "can't multiply sequence by non-int of type 'tuple'",
     "output_type": "error",
     "traceback": [
      "\u001b[31m---------------------------------------------------------------------------\u001b[39m",
      "\u001b[31mTypeError\u001b[39m                                 Traceback (most recent call last)",
      "\u001b[36mCell\u001b[39m\u001b[36m \u001b[39m\u001b[32mIn[26]\u001b[39m\u001b[32m, line 3\u001b[39m\n\u001b[32m      1\u001b[39m numbers = (\u001b[32m1\u001b[39m,\u001b[32m2\u001b[39m,\u001b[32m3\u001b[39m,\u001b[32m4\u001b[39m,\u001b[32m5\u001b[39m)\n\u001b[32m      2\u001b[39m colors = (\u001b[33m\"\u001b[39m\u001b[33mred\u001b[39m\u001b[33m\"\u001b[39m, \u001b[33m\"\u001b[39m\u001b[33mgreen\u001b[39m\u001b[33m\"\u001b[39m, \u001b[33m\"\u001b[39m\u001b[33mblue\u001b[39m\u001b[33m\"\u001b[39m)\n\u001b[32m----> \u001b[39m\u001b[32m3\u001b[39m t = \u001b[43mnumbers\u001b[49m\u001b[43m \u001b[49m\u001b[43m*\u001b[49m\u001b[43m \u001b[49m\u001b[43mcolors\u001b[49m\n\u001b[32m      4\u001b[39m \u001b[38;5;28mprint\u001b[39m(t)\n",
      "\u001b[31mTypeError\u001b[39m: can't multiply sequence by non-int of type 'tuple'"
     ]
    }
   ],
   "source": [
    "numbers = (1,2,3,4,5)\n",
    "colors = (\"red\", \"green\", \"blue\")\n",
    "t = numbers * colors\n",
    "print(t)"
   ]
  },
  {
   "cell_type": "code",
   "execution_count": 27,
   "id": "6899f501",
   "metadata": {},
   "outputs": [
    {
     "name": "stdout",
     "output_type": "stream",
     "text": [
      "철수\n",
      "19\n",
      "CS\n"
     ]
    }
   ],
   "source": [
    "student1 = (\"철수\", 19, \"CS\")\n",
    "(name, age, major)= student1\n",
    "print(name)\n",
    "print(age)\n",
    "print(major)"
   ]
  },
  {
   "cell_type": "code",
   "execution_count": 28,
   "id": "470b1ca0",
   "metadata": {},
   "outputs": [
    {
     "name": "stdout",
     "output_type": "stream",
     "text": [
      "{'Seoul', 'Paris', 'Berlin', 'paris', 'London'}\n"
     ]
    }
   ],
   "source": [
    "cities = {\"paris\", \"Seoul\", \"London\", \"Berlin\", \"Paris\", \"Seoul\"}\n",
    "print(cities)"
   ]
  },
  {
   "cell_type": "code",
   "execution_count": 35,
   "id": "83d9cc7f",
   "metadata": {},
   "outputs": [
    {
     "name": "stdout",
     "output_type": "stream",
     "text": [
      "1234567"
     ]
    }
   ],
   "source": [
    "numbers = {2,1,3,4,7,5,6}\n",
    "for x in numbers:\n",
    "    print(x, end=\"\")"
   ]
  },
  {
   "cell_type": "code",
   "execution_count": 39,
   "id": "8f7d559e",
   "metadata": {},
   "outputs": [
    {
     "name": "stdout",
     "output_type": "stream",
     "text": [
      "{1, 2, 3, 4, 5, 6, 7}\n"
     ]
    }
   ],
   "source": [
    "numbers.add(4)\n",
    "print(numbers)"
   ]
  },
  {
   "cell_type": "code",
   "execution_count": 40,
   "id": "2926a8be",
   "metadata": {},
   "outputs": [
    {
     "name": "stdout",
     "output_type": "stream",
     "text": [
      "{1, 2, 3, 4, 5, 6, 7}\n"
     ]
    }
   ],
   "source": [
    "numbers.update([2,3,4,5])\n",
    "print(numbers)"
   ]
  },
  {
   "cell_type": "code",
   "execution_count": 42,
   "id": "20f6e20d",
   "metadata": {},
   "outputs": [
    {
     "name": "stdout",
     "output_type": "stream",
     "text": [
      "False\n"
     ]
    }
   ],
   "source": [
    "a = {1,2,3,4,5}\n",
    "b = {1,2,3,6}\n",
    "print(b < a)"
   ]
  },
  {
   "cell_type": "code",
   "execution_count": 43,
   "id": "2dea2f46",
   "metadata": {},
   "outputs": [
    {
     "name": "stdout",
     "output_type": "stream",
     "text": [
      "True\n"
     ]
    }
   ],
   "source": [
    "a = {1,2,3,4,5}\n",
    "b = {1,2,3}\n",
    "print(b.issubset(a))"
   ]
  },
  {
   "cell_type": "code",
   "execution_count": 44,
   "id": "d4975b07",
   "metadata": {},
   "outputs": [
    {
     "name": "stdout",
     "output_type": "stream",
     "text": [
      "True\n"
     ]
    }
   ],
   "source": [
    "a = {1,2,3,4,5}\n",
    "b = {1,2,3}\n",
    "print(a.issuperset(b))"
   ]
  },
  {
   "cell_type": "code",
   "execution_count": 46,
   "id": "d99623f7",
   "metadata": {},
   "outputs": [
    {
     "name": "stdout",
     "output_type": "stream",
     "text": [
      "01032760838\n"
     ]
    },
    {
     "data": {
      "text/plain": [
       "'01032760838'"
      ]
     },
     "execution_count": 46,
     "metadata": {},
     "output_type": "execute_result"
    }
   ],
   "source": [
    "contacts = {'kim':\"01032760838\", 'pim':\"01032760123\", 'Lee':\"01032765674\"}\n",
    "print(contacts['kim'])\n",
    "contacts.get('kim')"
   ]
  },
  {
   "cell_type": "code",
   "execution_count": 48,
   "id": "83028592",
   "metadata": {},
   "outputs": [
    {
     "name": "stdout",
     "output_type": "stream",
     "text": [
      "010114\n"
     ]
    }
   ],
   "source": [
    "number = contacts.get(\"choi\",\"010114\")\n",
    "print(number)"
   ]
  },
  {
   "cell_type": "code",
   "execution_count": 50,
   "id": "9a51b8ae",
   "metadata": {},
   "outputs": [
    {
     "name": "stdout",
     "output_type": "stream",
     "text": [
      "01032760838\n",
      "{'pim': '01032760123', 'Lee': '01032765674'}\n"
     ]
    }
   ],
   "source": [
    "contacts = {'kim': \"01032760838\", 'pim': \"01032760123\", 'Lee': \"01032765674\"}\n",
    "\n",
    "print(contacts.pop('kim'))\n",
    "print(contacts)\n"
   ]
  },
  {
   "cell_type": "code",
   "execution_count": 52,
   "id": "fc6d92f9",
   "metadata": {},
   "outputs": [
    {
     "name": "stdout",
     "output_type": "stream",
     "text": [
      "{'pim': '01032760123', 'Lee': '01032765674'}\n"
     ]
    }
   ],
   "source": [
    "contacts = {'kim': \"01032760838\", 'pim': \"01032760123\", 'Lee': \"01032765674\"}\n",
    "del contacts['kim']\n",
    "print(contacts)"
   ]
  },
  {
   "cell_type": "code",
   "execution_count": 56,
   "id": "8e592e1b",
   "metadata": {},
   "outputs": [
    {
     "name": "stdout",
     "output_type": "stream",
     "text": [
      "[1, 2, 3, 4, 5]\n"
     ]
    }
   ],
   "source": [
    "def remove_duplicates_sort(numbers):\n",
    "    return sorted(list(set(numbers)))\n",
    "#예시\n",
    "nums = [4,2,5,2,3,4,1]\n",
    "print(remove_duplicates_sort(nums)) #[1,2,3,4,5]"
   ]
  },
  {
   "cell_type": "code",
   "execution_count": 57,
   "id": "a65acdde",
   "metadata": {},
   "outputs": [
    {
     "name": "stdout",
     "output_type": "stream",
     "text": [
      "{1: 1, 2: 4, 3: 9, 4: 16, 5: 25, 6: 36, 7: 49, 8: 64, 9: 81, 10: 100}\n"
     ]
    }
   ],
   "source": [
    "squares = {x: x * x for x in\n",
    "range(1,11)}\n",
    "print(squares)  #{1, 2:4, 3:9,....10:100 }\n"
   ]
  },
  {
   "cell_type": "code",
   "execution_count": 58,
   "metadata": {},
   "outputs": [
    {
     "name": "stdout",
     "output_type": "stream",
     "text": [
      "spple:  1\n",
      "banana:  2\n",
      "grape:  3\n"
     ]
    }
   ],
   "source": [
    "def print_dict_items(d):\n",
    "    for key, value in d.items():\n",
    "        print(f\"{key}:  {value}\")\n",
    "\n",
    "d = {\"spple\":1, \"banana\":2, \"grape\":3}\n",
    "print_dict_items(d)"
   ]
  },
  {
   "cell_type": "code",
   "execution_count": null,
   "id": "72ddc963",
   "metadata": {},
   "outputs": [
    {
     "name": "stdout",
     "output_type": "stream",
     "text": [
      "True\n",
      "False\n"
     ]
    }
   ],
   "source": [
    "def key_in_dict(d, key):\n",
    "    return key in d\n",
    "\n",
    "d = {1:10, 2:20, 3:30, 4:40, 5:50, 6:60}\n",
    "print(key_in_dict(d, 3)) # True\n",
    "print(key_in_dict(d, 7)) # False"
   ]
  },
  {
   "cell_type": "code",
   "execution_count": null,
   "id": "09ecc55a",
   "metadata": {},
   "outputs": [],
   "source": []
  }
 ],
 "metadata": {
  "kernelspec": {
   "display_name": "Python 3",
   "language": "python",
   "name": "python3"
  },
  "language_info": {
   "codemirror_mode": {
    "name": "ipython",
    "version": 3
   },
   "file_extension": ".py",
   "mimetype": "text/x-python",
   "name": "python",
   "nbconvert_exporter": "python",
   "pygments_lexer": "ipython3",
   "version": "3.13.5"
  }
 },
 "nbformat": 4,
 "nbformat_minor": 5
}
