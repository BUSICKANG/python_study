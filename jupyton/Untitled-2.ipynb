{
 "cells": [
  {
   "cell_type": "code",
   "execution_count": 8,
   "id": "66f2b6b2",
   "metadata": {},
   "outputs": [
    {
     "name": "stdout",
     "output_type": "stream",
     "text": [
      "나는 메론을 좋아합니다.\n"
     ]
    }
   ],
   "source": [
    "import random\n",
    "\n",
    "list=[\"나는 사과를 좋아합니다.\",\n",
    "    \"나는 배를 좋아합니다.\",\n",
    "    \"나는 바나나를 좋아합니다.\",\n",
    "    \"나는 감을 좋아합니다.\",\n",
    "    \"나는 참외를 좋아합니다.\",\n",
    "    \"나는 딸기를 좋아합니다.\",\n",
    "    \"나는 대추를 좋아합니다.\",\n",
    "    \"나는 밤을 좋아합니다.\",\n",
    "    \"나는 메론을 좋아합니다.\"]\n",
    "\n",
    "def pick_random_list():\n",
    "    return random.choice(list)\n",
    "\n",
    "\n",
    "\n",
    "print(pick_random_list())"
   ]
  }
 ],
 "metadata": {
  "kernelspec": {
   "display_name": "Python 3",
   "language": "python",
   "name": "python3"
  },
  "language_info": {
   "codemirror_mode": {
    "name": "ipython",
    "version": 3
   },
   "file_extension": ".py",
   "mimetype": "text/x-python",
   "name": "python",
   "nbconvert_exporter": "python",
   "pygments_lexer": "ipython3",
   "version": "3.13.5"
  }
 },
 "nbformat": 4,
 "nbformat_minor": 5
}
