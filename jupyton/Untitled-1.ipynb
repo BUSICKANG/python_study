{
 "cells": [
  {
   "cell_type": "code",
   "execution_count": 3,
   "id": "43a27ce5",
   "metadata": {},
   "outputs": [
    {
     "name": "stdout",
     "output_type": "stream",
     "text": [
      "2 4 6 8 10 12 14 16 18 20 22 24 26 28 30 32 34 36 38 40 42 44 46 48 50 "
     ]
    }
   ],
   "source": [
    "for i in range(2,51,2):\n",
    "    print(i, end=' ')"
   ]
  },
  {
   "cell_type": "code",
   "execution_count": 5,
   "id": "76f24dc1",
   "metadata": {},
   "outputs": [
    {
     "name": "stdout",
     "output_type": "stream",
     "text": [
      "정수들의 합은 364\n"
     ]
    }
   ],
   "source": [
    "myList = [11,22,23,99,81,93,35]\n",
    "sum=0\n",
    "for i in myList:\n",
    "    sum += i\n",
    "print(\"정수들의 합은\", sum)"
   ]
  },
  {
   "cell_type": "code",
   "execution_count": 8,
   "id": "01f997bf",
   "metadata": {},
   "outputs": [
    {
     "name": "stdout",
     "output_type": "stream",
     "text": [
      "1683\n"
     ]
    }
   ],
   "source": [
    "sum = 0\n",
    "for i in range(1,101):\n",
    "    if i % 3 == 0:\n",
    "        sum += i\n",
    "print(sum)"
   ]
  },
  {
   "cell_type": "code",
   "execution_count": 9,
   "id": "ae54c3ee",
   "metadata": {},
   "outputs": [
    {
     "name": "stdout",
     "output_type": "stream",
     "text": [
      "15"
     ]
    }
   ],
   "source": [
    "num=int(input(\"정수를 입력하시오:\"))\n",
    "\n",
    "for i in range(1,num+1):\n",
    "    if num%i==0:\n",
    "        print(i,end=\"\")\n"
   ]
  },
  {
   "cell_type": "code",
   "execution_count": 12,
   "id": "695ea0da",
   "metadata": {},
   "outputs": [
    {
     "name": "stdout",
     "output_type": "stream",
     "text": [
      "\n",
      "\n",
      "*\n",
      "\n",
      "**\n",
      "\n",
      "***\n",
      "\n",
      "****\n",
      "\n",
      "*****\n",
      "\n"
     ]
    }
   ],
   "source": [
    "num=int(input(\"정수를 입력하시오:\"))\n",
    "\n",
    "for i in range(num+1):\n",
    "    for j in range(1,num+1):\n",
    "        if j<=i:\n",
    "            print(\"*\",end=\"\")\n",
    "    print(\"\\n\")"
   ]
  },
  {
   "cell_type": "code",
   "execution_count": 15,
   "id": "9a9488ec",
   "metadata": {},
   "outputs": [
    {
     "name": "stdout",
     "output_type": "stream",
     "text": [
      "23\n"
     ]
    }
   ],
   "source": [
    "n=0\n",
    "\n",
    "while n<500:\n",
    "    if (n**2)>500:\n",
    "        print(n)\n",
    "        break\n",
    "    n+=1"
   ]
  },
  {
   "cell_type": "code",
   "execution_count": 17,
   "id": "7ce25110",
   "metadata": {},
   "outputs": [
    {
     "name": "stdout",
     "output_type": "stream",
     "text": [
      "계산값은 55 입니다.\n"
     ]
    }
   ],
   "source": [
    "n=int(input(\"n의 값을 입력하시오:\"))\n",
    "sum=0\n",
    "\n",
    "for i in range(1,n+1):\n",
    "    sum+=i**2\n",
    "\n",
    "print(\"계산값은\",sum,\"입니다.\")"
   ]
  },
  {
   "cell_type": "code",
   "execution_count": 20,
   "id": "41063f89",
   "metadata": {},
   "outputs": [
    {
     "name": "stdout",
     "output_type": "stream",
     "text": [
      "5 와 3 의 최대 공약수는 1 입니다.\n"
     ]
    }
   ],
   "source": [
    "a=int(input(\"첫 번째 정수를 입력하시오:\"))\n",
    "b=int(input(\"첫 번째 정수를 입력하시오:\"))\n",
    "common=0\n",
    "max=a\n",
    "if a<b:\n",
    "    max=b\n",
    "\n",
    "for i in range(1,max):\n",
    "    if a%i==0 and b%i==0:\n",
    "        common=i\n",
    "\n",
    "print(a,\"와\", b,\"의 최대 공약수는\", common, \"입니다.\")"
   ]
  },
  {
   "cell_type": "code",
   "execution_count": 19,
   "id": "0b93d0de",
   "metadata": {},
   "outputs": [
    {
     "name": "stdout",
     "output_type": "stream",
     "text": [
      "0,1,1,2,3\n"
     ]
    }
   ],
   "source": [
    "num=int(input(\"몇 번쨰 항까지 구할까? \"))\n",
    "element1=0\n",
    "element2=0\n",
    "\n",
    "for i in range(num+1):\n",
    "    if i<2:\n",
    "        element2=element1\n",
    "        element1=i\n",
    "        sum=element1+element2\n",
    "    else:\n",
    "        sum=element1+element2\n",
    "        element2=element1\n",
    "        element1=sum\n",
    "    if i!=num:\n",
    "        print(sum,end=\",\")\n",
    "    else:\n",
    "        print(sum)"
   ]
  },
  {
   "cell_type": "code",
   "execution_count": 23,
   "id": "6a81168b",
   "metadata": {},
   "outputs": [
    {
     "name": "stdout",
     "output_type": "stream",
     "text": [
      "235711131719"
     ]
    }
   ],
   "source": [
    "maxNum=20\n",
    "number=2\n",
    "count=0\n",
    "\n",
    "while number<maxNum:\n",
    "    divisor=2\n",
    "    prime=True\n",
    "\n",
    "    while divisor<number:\n",
    "        if number%divisor==0:\n",
    "            prime=False\n",
    "            break\n",
    "        divisor+=1\n",
    "    if prime:\n",
    "        count+=1\n",
    "        print(number,end=\"\")\n",
    "    number+=1"
   ]
  },
  {
   "cell_type": "code",
   "execution_count": 25,
   "id": "68154cdf",
   "metadata": {},
   "outputs": [
    {
     "name": "stdout",
     "output_type": "stream",
     "text": [
      "5 7 9 11 11 13 13 15 17 17 17 19 19 19 "
     ]
    }
   ],
   "source": [
    "for num in range(2,21):\n",
    "    is_prime = True\n",
    "    for i in range(2, int(num **0.5) + 1):\n",
    "        if num % i == 0:\n",
    "            is_prime = False\n",
    "            break\n",
    "        if is_prime:\n",
    "            print(num,end=' ')"
   ]
  },
  {
   "cell_type": "code",
   "execution_count": 26,
   "id": "e367ec02",
   "metadata": {},
   "outputs": [
    {
     "name": "stdout",
     "output_type": "stream",
     "text": [
      "fizzbuzz\n",
      "*\n",
      "*\n",
      "fizz\n",
      "*\n",
      "buzz\n",
      "fizz\n",
      "*\n",
      "*\n",
      "fizz\n",
      "buzz\n",
      "*\n",
      "fizz\n",
      "*\n",
      "*\n",
      "fizzbuzz\n",
      "*\n",
      "*\n",
      "fizz\n",
      "*\n"
     ]
    }
   ],
   "source": [
    "for i in range(0,20):\n",
    "    if i%3==0 and i%5==0:\n",
    "        print(\"fizzbuzz\")\n",
    "    elif i%5==0:\n",
    "        print(\"buzz\")\n",
    "    elif i%3==0:\n",
    "        print(\"fizz\")\n",
    "    else:\n",
    "        print(\"*\")"
   ]
  },
  {
   "cell_type": "code",
   "execution_count": 29,
   "id": "c2798bdf",
   "metadata": {},
   "outputs": [
    {
     "name": "stdout",
     "output_type": "stream",
     "text": [
      "Requirement already satisfied: pyautogui in c:\\users\\강부식_\\appdata\\local\\programs\\python\\python313\\lib\\site-packages (0.9.54)\n",
      "Requirement already satisfied: pymsgbox in c:\\users\\강부식_\\appdata\\local\\programs\\python\\python313\\lib\\site-packages (from pyautogui) (1.0.9)\n",
      "Requirement already satisfied: pytweening>=1.0.4 in c:\\users\\강부식_\\appdata\\local\\programs\\python\\python313\\lib\\site-packages (from pyautogui) (1.2.0)\n",
      "Requirement already satisfied: pyscreeze>=0.1.21 in c:\\users\\강부식_\\appdata\\local\\programs\\python\\python313\\lib\\site-packages (from pyautogui) (1.0.1)\n",
      "Requirement already satisfied: pygetwindow>=0.0.5 in c:\\users\\강부식_\\appdata\\local\\programs\\python\\python313\\lib\\site-packages (from pyautogui) (0.0.9)\n",
      "Requirement already satisfied: mouseinfo in c:\\users\\강부식_\\appdata\\local\\programs\\python\\python313\\lib\\site-packages (from pyautogui) (0.1.3)\n",
      "Requirement already satisfied: pyrect in c:\\users\\강부식_\\appdata\\local\\programs\\python\\python313\\lib\\site-packages (from pygetwindow>=0.0.5->pyautogui) (0.2.0)\n",
      "Requirement already satisfied: pyperclip in c:\\users\\강부식_\\appdata\\local\\programs\\python\\python313\\lib\\site-packages (from mouseinfo->pyautogui) (1.9.0)\n",
      "Note: you may need to restart the kernel to use updated packages.\n"
     ]
    }
   ],
   "source": [
    "pip install pyautogui"
   ]
  },
  {
   "cell_type": "code",
   "execution_count": null,
   "id": "0ac68931",
   "metadata": {},
   "outputs": [
    {
     "name": "stdout",
     "output_type": "stream",
     "text": [
      "Point(x=442, y=1551)\n"
     ]
    }
   ],
   "source": [
    "import pyautogui as pag\n",
    "import time\n",
    "\n",
    "time.sleep(3)\n",
    "print(pag.position())\n",
    "#pag.moveTo(20,400,duration=2)\n",
    "#pag.click()\n",
    "#마우스좌표값_설정"
   ]
  },
  {
   "cell_type": "code",
   "execution_count": null,
   "id": "6f5868d9",
   "metadata": {},
   "outputs": [],
   "source": [
    "pag.moveTo(5404, 1283, duration=2)\n",
    "pag.click()\n",
    "#매크로마우스자동_이동_클릭"
   ]
  },
  {
   "cell_type": "code",
   "execution_count": 36,
   "id": "0d1005e7",
   "metadata": {},
   "outputs": [
    {
     "name": "stdout",
     "output_type": "stream",
     "text": [
      "안녕, 강부식\n"
     ]
    }
   ],
   "source": [
    "def say_hello(name):\n",
    "        print(\"안녕,\",name)\n",
    "\n",
    "say_hello(\"강부식\")"
   ]
  },
  {
   "cell_type": "code",
   "execution_count": 39,
   "id": "dca278e9",
   "metadata": {},
   "outputs": [
    {
     "name": "stdout",
     "output_type": "stream",
     "text": [
      "안녕, 강부식 야, mag\n"
     ]
    }
   ],
   "source": [
    "def say_hello(name,mag):\n",
    "        print(\"안녕,\",name,\"야, mag\");\n",
    "name=\"강부식\"\n",
    "mag=\"어서 집에 오너라\"\n",
    "say_hello(name,mag)"
   ]
  },
  {
   "cell_type": "code",
   "execution_count": 44,
   "id": "f2f6ca8a",
   "metadata": {},
   "outputs": [
    {
     "name": "stdout",
     "output_type": "stream",
     "text": [
      "55\n",
      "210\n"
     ]
    }
   ],
   "source": [
    "def get_sum(start,end):\n",
    "    sum=0\n",
    "    for i in range(start,end+1):\n",
    "            sum +=i\n",
    "    return sum\n",
    "\n",
    "print(get_sum(1,10))\n",
    "print(get_sum(1,20))"
   ]
  },
  {
   "cell_type": "code",
   "execution_count": 45,
   "id": "700eed15",
   "metadata": {},
   "outputs": [
    {
     "name": "stdout",
     "output_type": "stream",
     "text": [
      "안녕 aaa bbb cccc dddd\n",
      "안녕 철수 4 철수 3\n"
     ]
    }
   ],
   "source": [
    "def output_hello(a,b,c,d):\n",
    "    print(\"안녕\", a, b, c, d)\n",
    "\n",
    "a=\"철수\"\n",
    "b=\"철수\"\n",
    "c= 3\n",
    "d= 4\n",
    "\n",
    "output_hello(a=\"aaa\", b=\"bbb\", c=\"cccc\", d=\"dddd\")\n",
    "output_hello(b,d,a,c)"
   ]
  },
  {
   "cell_type": "code",
   "execution_count": 53,
   "id": "89782962",
   "metadata": {},
   "outputs": [
    {
     "name": "stdout",
     "output_type": "stream",
     "text": [
      "31.400000000000002\n"
     ]
    }
   ],
   "source": [
    "def get_peri(radius=5):\n",
    "    a=2*3.14 * radius\n",
    "    return a\n",
    "\n",
    "i=int(input(\"반지름을 넣어주세요\"))\n",
    "b=get_peri(i)\n",
    "print(b)"
   ]
  },
  {
   "cell_type": "code",
   "execution_count": null,
   "id": "43f094da",
   "metadata": {},
   "outputs": [
    {
     "name": "stdout",
     "output_type": "stream",
     "text": [
      "3\n",
      "-1\n",
      "2\n",
      "0.5\n"
     ]
    }
   ],
   "source": [
    "def add(a,b):\n",
    "    return a + b\n",
    "def subtract(a,b):\n",
    "    return a - b\n",
    "def multiply(a,b):\n",
    "    return a * b\n",
    "def divide(a,b):\n",
    "    if b != 0:\n",
    "        return  a /b \n",
    "    else:\n",
    "        print(\"입력오류\")\n",
    "\n",
    "\n",
    "print(add(1,2))\n",
    "print(subtract(1,2))\n",
    "print(multiply(1,2))\n",
    "print(divide(1,2))"
   ]
  },
  {
   "cell_type": "code",
   "execution_count": null,
   "id": "be7b687e",
   "metadata": {},
   "outputs": [],
   "source": [
    "def add(a,b):\n",
    "    return a + b\n",
    "def subtract(a,b):\n",
    "    return a - b\n",
    "def multiply(a,b):\n",
    "    return a * b\n",
    "def divide(a,b):\n",
    "    if b != 0:\n",
    "        return  a /b \n",
    "    else:\n",
    "        print(\"입력오류\")\n",
    "\n",
    "def calc(a,b):\n",
    "    result_add=add(a,b)\n"
   ]
  },
  {
   "cell_type": "code",
   "execution_count": 60,
   "id": "26784f70",
   "metadata": {},
   "outputs": [
    {
     "name": "stdout",
     "output_type": "stream",
     "text": [
      "[1, 2, 3, 4, 5, 6, 7, 8, 9, 10]\n",
      "[1, 2, 3, 4, 5]\n",
      "[6, 7, 8, 9, 10]\n",
      "[1, 2, 3, 4, 5]\n",
      "1\n"
     ]
    }
   ],
   "source": [
    "scores = [1,2,3,4,5,6,7,8,9,10]\n",
    "print(scores)\n",
    "print(scores[0:5])\n",
    "print(scores[5:])\n",
    "print(scores[:5])\n",
    "print(scores[-10])\n"
   ]
  },
  {
   "cell_type": "code",
   "execution_count": 61,
   "id": "80eefa73",
   "metadata": {},
   "outputs": [
    {
     "name": "stdout",
     "output_type": "stream",
     "text": [
      "[34]\n",
      "[34, 34]\n",
      "[34, 34, 100]\n",
      "[34, 34, 100, 22]\n",
      "[34, 34, 100, 22, 22]\n",
      "[34, 34, 100, 22, 22, 22]\n",
      "[34, 34, 100, 22, 22, 22, 22]\n",
      "[34, 34, 100, 22, 22, 22, 22, 24]\n",
      "[34, 34, 100, 22, 22, 22, 22, 24, 45]\n",
      "[34, 34, 100, 22, 22, 22, 22, 24, 45, 23]\n"
     ]
    }
   ],
   "source": [
    "scores = []\n",
    "for i in range(10):\n",
    "    scores.append(int(input(\"성적을 입력하세요.\")))\n",
    "    print(scores)"
   ]
  },
  {
   "cell_type": "code",
   "execution_count": 63,
   "id": "cc91382e",
   "metadata": {},
   "outputs": [
    {
     "name": "stdout",
     "output_type": "stream",
     "text": [
      "[]\n",
      "['H', 'E', 'L', 'L', 'O']\n",
      "[0, 1, 2, 3, 4]\n"
     ]
    }
   ],
   "source": [
    "list1 = list()\n",
    "list2 = list(\"HELLO\")\n",
    "list3 = list(range(0,5))\n",
    "\n",
    "print(list1)\n",
    "print(list2)\n",
    "print(list3)"
   ]
  },
  {
   "cell_type": "code",
   "execution_count": null,
   "id": "bcd508c7",
   "metadata": {},
   "outputs": [],
   "source": []
  }
 ],
 "metadata": {
  "kernelspec": {
   "display_name": "Python 3",
   "language": "python",
   "name": "python3"
  },
  "language_info": {
   "codemirror_mode": {
    "name": "ipython",
    "version": 3
   },
   "file_extension": ".py",
   "mimetype": "text/x-python",
   "name": "python",
   "nbconvert_exporter": "python",
   "pygments_lexer": "ipython3",
   "version": "3.13.5"
  }
 },
 "nbformat": 4,
 "nbformat_minor": 5
}
